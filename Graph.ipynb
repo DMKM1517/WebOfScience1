{
 "cells": [
  {
   "cell_type": "code",
   "execution_count": 206,
   "metadata": {
    "collapsed": false
   },
   "outputs": [],
   "source": [
    "import mysql.connector\n",
    "import networkx as nx\n",
    "import scipy as sp\n",
    "import numpy as np"
   ]
  },
  {
   "cell_type": "code",
   "execution_count": 207,
   "metadata": {
    "collapsed": false
   },
   "outputs": [],
   "source": [
    "cnx = mysql.connector.connect(user='root', password='dmkm1234',\n",
    "                                  host='localhost',\n",
    "                                  database='dmkm_articles', port='8889')\n",
    "cursor = cnx.cursor()\n",
    "G=nx.Graph()"
   ]
  },
  {
   "cell_type": "code",
   "execution_count": 208,
   "metadata": {
    "collapsed": false
   },
   "outputs": [],
   "source": [
    "for ii in range(10):\n",
    "    of = ii*100000\n",
    "    query = (\"select s1.author_id as a_1, s2.author_id as a_2 \"\n",
    "                \"from signature s1, signature s2, author_rank r \"\n",
    "                \"where s1.author_id != s2.author_id \"\n",
    "                \"and s1.article_id = s2.article_id \"\n",
    "                \"and s1.author_id = r.author_id \"\n",
    "                \"limit 100000 offset \"+str(of) )\n",
    "    cursor.execute(query)\n",
    "    for (a_1, a_2) in cursor:\n",
    "        G.add_edges_from([(a_1, a_2)])"
   ]
  },
  {
   "cell_type": "code",
   "execution_count": 209,
   "metadata": {
    "collapsed": false
   },
   "outputs": [],
   "source": [
    "A=nx.adjacency_matrix(G)"
   ]
  },
  {
   "cell_type": "code",
   "execution_count": null,
   "metadata": {
    "collapsed": true
   },
   "outputs": [],
   "source": [
    "for i in range(len(A.nonzero()[0])):\n",
    "    query = (\"select s1.author_id as a_1, s2.author_id as a_2 \"\n",
    "                \"from signature s1, signature s2, author_rank r \"\n",
    "                \"where s1.author_id != s2.author_id \"\n",
    "                \"and s1.article_id = s2.article_id \"\n",
    "                \"and s1.author_id = r.author_id \"\n",
    "                \"limit 5 offset \"+str(of)\n",
    "                     )\n",
    "    print( (G.nodes()[A.nonzero()[0][i]],G.nodes()[A.nonzero()[1][i]]) )"
   ]
  },
  {
   "cell_type": "code",
   "execution_count": null,
   "metadata": {
    "collapsed": true
   },
   "outputs": [],
   "source": [
    "cursor.close()\n",
    "cnx.close()"
   ]
  },
  {
   "cell_type": "code",
   "execution_count": 160,
   "metadata": {
    "collapsed": false
   },
   "outputs": [],
   "source": [
    "#import matplotlib.pyplot as plt"
   ]
  },
  {
   "cell_type": "code",
   "execution_count": 161,
   "metadata": {
    "collapsed": false
   },
   "outputs": [],
   "source": [
    "#nx.draw(G)"
   ]
  },
  {
   "cell_type": "code",
   "execution_count": 162,
   "metadata": {
    "collapsed": true
   },
   "outputs": [],
   "source": [
    "#plt.show()"
   ]
  },
  {
   "cell_type": "code",
   "execution_count": 168,
   "metadata": {
    "collapsed": false
   },
   "outputs": [
    {
     "name": "stdout",
     "output_type": "stream",
     "text": [
      "  (0, 1)\t1\n",
      "  (1, 0)\t1\n",
      "  (1, 2)\t1\n",
      "  (1, 3)\t1\n",
      "  (1, 4)\t1\n",
      "  (1, 5)\t1\n",
      "  (2, 1)\t1\n",
      "  (3, 1)\t1\n",
      "  (4, 1)\t1\n",
      "  (5, 1)\t1\n"
     ]
    }
   ],
   "source": [
    "print(A)"
   ]
  },
  {
   "cell_type": "code",
   "execution_count": 165,
   "metadata": {
    "collapsed": false
   },
   "outputs": [
    {
     "data": {
      "text/plain": [
       "array([[0, 1, 0, 0, 0, 0]])"
      ]
     },
     "execution_count": 165,
     "metadata": {},
     "output_type": "execute_result"
    }
   ],
   "source": [
    "z.toarray()"
   ]
  },
  {
   "cell_type": "code",
   "execution_count": 166,
   "metadata": {
    "collapsed": false
   },
   "outputs": [
    {
     "name": "stdout",
     "output_type": "stream",
     "text": [
      "  (0, 1)\t1\n"
     ]
    }
   ],
   "source": [
    "print(A.tocsc()[0])"
   ]
  },
  {
   "cell_type": "code",
   "execution_count": 198,
   "metadata": {
    "collapsed": false
   },
   "outputs": [
    {
     "name": "stdout",
     "output_type": "stream",
     "text": [
      "(2417, 25347)\n",
      "(25347, 2417)\n",
      "(25347, 3108)\n",
      "(25347, 4341)\n",
      "(25347, 6119)\n",
      "(25347, 6543)\n",
      "(3108, 25347)\n",
      "(4341, 25347)\n",
      "(6119, 25347)\n",
      "(6543, 25347)\n"
     ]
    }
   ],
   "source": [
    "for i in range(len(A.nonzero()[0])):\n",
    "    print( (G.nodes()[A.nonzero()[0][i]],G.nodes()[A.nonzero()[1][i]]) )"
   ]
  },
  {
   "cell_type": "code",
   "execution_count": 195,
   "metadata": {
    "collapsed": false
   },
   "outputs": [
    {
     "data": {
      "text/plain": [
       "<zip at 0x10a91a7c8>"
      ]
     },
     "execution_count": 195,
     "metadata": {},
     "output_type": "execute_result"
    }
   ],
   "source": [
    "zip(*A.nonzero())"
   ]
  },
  {
   "cell_type": "code",
   "execution_count": 190,
   "metadata": {
    "collapsed": false
   },
   "outputs": [
    {
     "data": {
      "text/plain": [
       "(array([0, 1, 1, 1, 1, 1, 2, 3, 4, 5], dtype=int32),\n",
       " array([1, 0, 2, 3, 4, 5, 1, 1, 1, 1], dtype=int32))"
      ]
     },
     "execution_count": 190,
     "metadata": {},
     "output_type": "execute_result"
    }
   ],
   "source": [
    "A.nonzero()"
   ]
  },
  {
   "cell_type": "code",
   "execution_count": 199,
   "metadata": {
    "collapsed": false
   },
   "outputs": [
    {
     "data": {
      "text/plain": [
       "[2417, 25347, 3108, 4341, 6119, 6543]"
      ]
     },
     "execution_count": 199,
     "metadata": {},
     "output_type": "execute_result"
    }
   ],
   "source": [
    "G.nodes()"
   ]
  },
  {
   "cell_type": "code",
   "execution_count": 60,
   "metadata": {
    "collapsed": false
   },
   "outputs": [
    {
     "data": {
      "text/plain": [
       "110336"
      ]
     },
     "execution_count": 60,
     "metadata": {},
     "output_type": "execute_result"
    }
   ],
   "source": [
    "G.nodes()[0]"
   ]
  },
  {
   "cell_type": "code",
   "execution_count": 133,
   "metadata": {
    "collapsed": false
   },
   "outputs": [
    {
     "name": "stdout",
     "output_type": "stream",
     "text": [
      "[[0 1 0 0 0 0]\n",
      " [1 0 1 1 1 1]\n",
      " [0 1 0 0 0 0]\n",
      " [0 1 0 0 0 0]\n",
      " [0 1 0 0 0 0]\n",
      " [0 1 0 0 0 0]]\n"
     ]
    }
   ],
   "source": [
    "print(A.todense())"
   ]
  },
  {
   "cell_type": "code",
   "execution_count": 119,
   "metadata": {
    "collapsed": false
   },
   "outputs": [
    {
     "data": {
      "text/plain": [
       "array([ 2417, 25347,  3108,  4341,  6119,  6543])"
      ]
     },
     "execution_count": 119,
     "metadata": {},
     "output_type": "execute_result"
    }
   ],
   "source": [
    "np.asarray(nx.nodes(G))"
   ]
  },
  {
   "cell_type": "code",
   "execution_count": 21,
   "metadata": {
    "collapsed": false
   },
   "outputs": [
    {
     "data": {
      "text/plain": [
       "[2417, 25347, 3108]"
      ]
     },
     "execution_count": 21,
     "metadata": {},
     "output_type": "execute_result"
    }
   ],
   "source": [
    "nx.shortest_path(G,2417,3108)"
   ]
  },
  {
   "cell_type": "code",
   "execution_count": 22,
   "metadata": {
    "collapsed": false
   },
   "outputs": [
    {
     "data": {
      "text/plain": [
       "array([[0, 1, 0, 0, 0, 0],\n",
       "       [1, 0, 1, 1, 1, 1],\n",
       "       [0, 1, 0, 0, 0, 0],\n",
       "       [0, 1, 0, 0, 0, 0],\n",
       "       [0, 1, 0, 0, 0, 0],\n",
       "       [0, 1, 0, 0, 0, 0]], dtype=int64)"
      ]
     },
     "execution_count": 22,
     "metadata": {},
     "output_type": "execute_result"
    }
   ],
   "source": [
    "A.toarray()"
   ]
  },
  {
   "cell_type": "code",
   "execution_count": null,
   "metadata": {
    "collapsed": true
   },
   "outputs": [],
   "source": [
    "flatten = list(set([val for sublist in exit for val in sublist]))\n",
    "flatten.remove(author)\n",
    "    except:\n",
    "        pass\n",
    "    return flatten\n",
    "def add_vicinity(graph,author):\n",
    "    edges = find_neighbour(author)\n",
    "    G.add_edges_from(edges)\n",
    "    vicinity = list_author(edges,author)\n",
    "    return vicinity\n",
    "def graph_r(G,author,k):\n",
    "    if k >= 1:\n",
    "        vici = add_vicinity(G,author)\n",
    "        for authors in vici:\n",
    "            k = k - 1\n",
    "            graph_r(G,authors,k)"
   ]
  },
  {
   "cell_type": "code",
   "execution_count": 55,
   "metadata": {
    "collapsed": false
   },
   "outputs": [
    {
     "name": "stdout",
     "output_type": "stream",
     "text": [
      "4 377789 1 conn\n",
      "4 434880 1 conn\n",
      "4 441970 1 conn\n",
      "4 447077 1 conn\n",
      "4 450410 1 conn\n",
      "5 36550 1 conn\n",
      "5 48482 1 conn\n",
      "5 60209 1 conn\n",
      "5 75498 1 conn\n",
      "5 143215 1 conn\n"
     ]
    }
   ],
   "source": [
    "cnx = mysql.connector.connect(user='root', password='dmkm1234',\n",
    "                                  host='localhost',\n",
    "                                  database='dmkm_articles', port='8889')\n",
    "cursor = cnx.cursor(buffered=True)\n",
    "cursorb = cnx.cursor(buffered=True)\n",
    "\n",
    "query = (\"select a_1, a_2 from graph where distance is null limit 10\")\n",
    "cursor.execute(query)\n",
    "\n",
    "query2 = (\"update graph \"\n",
    "          \"set distance = %s \"\n",
    "          \"where a_1= %s and a_2= %s and distance is null \"\n",
    "                )\n",
    "i=0\n",
    "for (a_1,a_2) in cursor:\n",
    "    G=nx.Graph()\n",
    "    k=5\n",
    "    graph_r(G,a_1,k)\n",
    "    graph_r(G,a_2,k)\n",
    "    i = i+1\n",
    "    d = None\n",
    "    try:\n",
    "        d = str(len(nx.shortest_path(G,a_1,a_2))-1)\n",
    "        cursorb.execute(query2,(d,a_1,a_2))\n",
    "        cnx.commit()\n",
    "        print(str(a_1)+' '+str(a_2)+' '+str(d)+' conn')\n",
    "    except:\n",
    "        pass\n",
    "cursorb.close()\n",
    "cursor.close()\n",
    "cnx.close()"
   ]
  },
  {
   "cell_type": "code",
   "execution_count": 344,
   "metadata": {
    "collapsed": false
   },
   "outputs": [
    {
     "name": "stdout",
     "output_type": "stream",
     "text": [
      "update graph set distance = 0 where a_1=2 and a_2=155241 and distance is null \n"
     ]
    }
   ],
   "source": [
    "#d=0\n",
    "#query2 = (\"update graph \"\n",
    "#                  \"set distance = \"+str(d)+\" \"\n",
    "#                  \"where a_1=\"+str(a_1)+\" and a_2=\"+str(a_2)+\" and distance is null \")\n",
    "#print(query2)"
   ]
  },
  {
   "cell_type": "code",
   "execution_count": 50,
   "metadata": {
    "collapsed": false
   },
   "outputs": [],
   "source": [
    "#a1=2\n",
    "#a2=62182\n",
    "#k=5\n",
    "#G=nx.Graph()\n",
    "#graph_r(G,a1,k)\n",
    "#graph_r(G,a2,k)"
   ]
  },
  {
   "cell_type": "code",
   "execution_count": 51,
   "metadata": {
    "collapsed": false
   },
   "outputs": [
    {
     "data": {
      "text/plain": [
       "167"
      ]
     },
     "execution_count": 51,
     "metadata": {},
     "output_type": "execute_result"
    }
   ],
   "source": [
    "#len(G.nodes())"
   ]
  },
  {
   "cell_type": "code",
   "execution_count": 52,
   "metadata": {
    "collapsed": false
   },
   "outputs": [
    {
     "data": {
      "text/plain": [
       "1"
      ]
     },
     "execution_count": 52,
     "metadata": {},
     "output_type": "execute_result"
    }
   ],
   "source": [
    "#len(nx.shortest_path(G,a1,a2))-1"
   ]
  },
  {
   "cell_type": "code",
   "execution_count": 353,
   "metadata": {
    "collapsed": false
   },
   "outputs": [],
   "source": [
    "#for author in cursor:\n",
    "#    pass\n",
    "#cursor1\n",
    "#cnx.commit()\n",
    "#cursor.close()\n",
    "#cnx.close()"
   ]
  },
  {
   "cell_type": "code",
   "execution_count": 235,
   "metadata": {
    "collapsed": false
   },
   "outputs": [],
   "source": [
    "#G.edges()"
   ]
  },
  {
   "cell_type": "code",
   "execution_count": 236,
   "metadata": {
    "collapsed": false
   },
   "outputs": [],
   "source": [
    "#nx.clustering(G)"
   ]
  },
  {
   "cell_type": "code",
   "execution_count": null,
   "metadata": {
    "collapsed": true
   },
   "outputs": [],
   "source": []
  },
  {
   "cell_type": "code",
   "execution_count": null,
   "metadata": {
    "collapsed": true
   },
   "outputs": [],
   "source": []
  }
 ],
 "metadata": {
  "kernelspec": {
   "display_name": "Python 3",
   "language": "python",
   "name": "python3"
  },
  "language_info": {
   "codemirror_mode": {
    "name": "ipython",
    "version": 3
   },
   "file_extension": ".py",
   "mimetype": "text/x-python",
   "name": "python",
   "nbconvert_exporter": "python",
   "pygments_lexer": "ipython3",
   "version": "3.5.1"
  }
 },
 "nbformat": 4,
 "nbformat_minor": 0
}
