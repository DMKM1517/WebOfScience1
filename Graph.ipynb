{
 "cells": [
  {
   "cell_type": "code",
   "execution_count": 1,
   "metadata": {
    "collapsed": false
   },
   "outputs": [],
   "source": [
    "import mysql.connector\n",
    "import networkx as nx"
   ]
  },
  {
   "cell_type": "code",
   "execution_count": 2,
   "metadata": {
    "collapsed": false
   },
   "outputs": [],
   "source": [
    "def find_neighbour(author):\n",
    "    cnx = mysql.connector.connect(user='root', password='dmkm1234',\n",
    "                                  host='localhost',\n",
    "                                  database='dmkm_articles', port='8889')\n",
    "    cursor = cnx.cursor()\n",
    "    query = (\"select s1.author_id as a_1, s2.author_id as a_2 \"\n",
    "                \"from signature s1, signature s2 \"\n",
    "                \"where s1.author_id != s2.author_id \"\n",
    "                \"and s1.article_id = s2.article_id \"\n",
    "                \"and s1.author_id =\"+str(author)\n",
    "                     )\n",
    "    cursor.execute(query)\n",
    "    exit = []\n",
    "    for (a_1, a_2) in cursor:\n",
    "        exit.append([a_1,a_2])\n",
    "    cursor.close()\n",
    "    cnx.close()\n",
    "    return exit\n",
    "def list_author(exit,author):\n",
    "    flatten = list(set([val for sublist in exit for val in sublist]))\n",
    "    try:\n",
    "        flatten.remove(author)\n",
    "    except ValueError:\n",
    "        print(a)\n",
    "    return flatten\n",
    "def add_vicinity(graph,author):\n",
    "    edges = find_neighbour(author)\n",
    "    G.add_edges_from(edges)\n",
    "    vicinity = list_author(edges,author)\n",
    "    return vicinity\n",
    "def graph_r(G,author,k):\n",
    "    if k >= 1:\n",
    "        vici = add_vicinity(G,author)\n",
    "        for authors in vici:\n",
    "            k = k - 1\n",
    "            graph_r(G,authors,k)"
   ]
  },
  {
   "cell_type": "code",
   "execution_count": 53,
   "metadata": {
    "collapsed": false
   },
   "outputs": [],
   "source": [
    "cnx = mysql.connector.connect(user='root', password='dmkm1234',\n",
    "                                  host='localhost',\n",
    "                                  database='dmkm_articles', port='8889')\n",
    "cursor = cnx.cursor(buffered=True)\n",
    "cursorb = cnx.cursor(buffered=True)\n",
    "\n",
    "query = (\"select a_1, a_2 from graph where distance is null limit 10\")\n",
    "cursor.execute(query)\n",
    "\n",
    "query2 = (\"update graph \"\n",
    "          \"set distance = %s \"\n",
    "          \"where a_1= %s and a_2= %s and distance is null \"\n",
    "                )\n",
    "i=0\n",
    "for (a_1,a_2) in cursor:\n",
    "    G=nx.Graph()\n",
    "    k=5\n",
    "    graph_r(G,a_1,k)\n",
    "    graph_r(G,a_2,k)\n",
    "    i = i+1\n",
    "    d = None\n",
    "    try:\n",
    "        d = str(len(nx.shortest_path(G,a_1,a_2))-1)\n",
    "        cursorb.execute(query2,(d,a_1,a_2))\n",
    "        cnx.commit()\n",
    "        print(str(a_1)+' '+str(a_2)+' '+str(d)+' conn')\n",
    "    except:\n",
    "        pass\n",
    "cursorb.close()\n",
    "cursor.close()\n",
    "cnx.close()"
   ]
  },
  {
   "cell_type": "code",
   "execution_count": 344,
   "metadata": {
    "collapsed": false
   },
   "outputs": [
    {
     "name": "stdout",
     "output_type": "stream",
     "text": [
      "update graph set distance = 0 where a_1=2 and a_2=155241 and distance is null \n"
     ]
    }
   ],
   "source": [
    "#d=0\n",
    "#query2 = (\"update graph \"\n",
    "#                  \"set distance = \"+str(d)+\" \"\n",
    "#                  \"where a_1=\"+str(a_1)+\" and a_2=\"+str(a_2)+\" and distance is null \")\n",
    "#print(query2)"
   ]
  },
  {
   "cell_type": "code",
   "execution_count": 50,
   "metadata": {
    "collapsed": false
   },
   "outputs": [],
   "source": [
    "#a1=2\n",
    "#a2=62182\n",
    "#k=5\n",
    "#G=nx.Graph()\n",
    "#graph_r(G,a1,k)\n",
    "#graph_r(G,a2,k)"
   ]
  },
  {
   "cell_type": "code",
   "execution_count": 51,
   "metadata": {
    "collapsed": false
   },
   "outputs": [
    {
     "data": {
      "text/plain": [
       "167"
      ]
     },
     "execution_count": 51,
     "metadata": {},
     "output_type": "execute_result"
    }
   ],
   "source": [
    "#len(G.nodes())"
   ]
  },
  {
   "cell_type": "code",
   "execution_count": 52,
   "metadata": {
    "collapsed": false
   },
   "outputs": [
    {
     "data": {
      "text/plain": [
       "1"
      ]
     },
     "execution_count": 52,
     "metadata": {},
     "output_type": "execute_result"
    }
   ],
   "source": [
    "#len(nx.shortest_path(G,a1,a2))-1"
   ]
  },
  {
   "cell_type": "code",
   "execution_count": 353,
   "metadata": {
    "collapsed": false
   },
   "outputs": [],
   "source": [
    "#for author in cursor:\n",
    "#    pass\n",
    "#cursor1\n",
    "#cnx.commit()\n",
    "#cursor.close()\n",
    "#cnx.close()"
   ]
  },
  {
   "cell_type": "code",
   "execution_count": 235,
   "metadata": {
    "collapsed": false
   },
   "outputs": [],
   "source": [
    "#G.edges()"
   ]
  },
  {
   "cell_type": "code",
   "execution_count": 236,
   "metadata": {
    "collapsed": false
   },
   "outputs": [],
   "source": [
    "#nx.clustering(G)"
   ]
  },
  {
   "cell_type": "code",
   "execution_count": null,
   "metadata": {
    "collapsed": true
   },
   "outputs": [],
   "source": []
  },
  {
   "cell_type": "code",
   "execution_count": null,
   "metadata": {
    "collapsed": true
   },
   "outputs": [],
   "source": []
  }
 ],
 "metadata": {
  "kernelspec": {
   "display_name": "Python 3",
   "language": "python",
   "name": "python3"
  },
  "language_info": {
   "codemirror_mode": {
    "name": "ipython",
    "version": 3
   },
   "file_extension": ".py",
   "mimetype": "text/x-python",
   "name": "python",
   "nbconvert_exporter": "python",
   "pygments_lexer": "ipython3",
   "version": "3.5.1"
  }
 },
 "nbformat": 4,
 "nbformat_minor": 0
}
