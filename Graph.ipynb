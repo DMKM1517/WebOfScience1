{
 "cells": [
  {
   "cell_type": "code",
   "execution_count": 16,
   "metadata": {
    "collapsed": false
   },
   "outputs": [],
   "source": [
    "import mysql.connector\n",
    "import networkx as nx\n",
    "import scipy as sp\n",
    "import numpy as np"
   ]
  },
  {
   "cell_type": "code",
   "execution_count": 17,
   "metadata": {
    "collapsed": false
   },
   "outputs": [],
   "source": [
    "cnx = mysql.connector.connect(user='root', password='dmkm1234',\n",
    "                                  host='localhost',\n",
    "                                  database='dmkm_articles', port='8889')\n",
    "cursor = cnx.cursor()\n",
    "query = (\"select s1.author_id as a_1, s2.author_id as a_2 \"\n",
    "                \"from signature s1, signature s2, author_rank r \"\n",
    "                \"where s1.author_id != s2.author_id \"\n",
    "                \"and s1.article_id = s2.article_id \"\n",
    "                \"and s1.author_id = r.author_id \"\n",
    "                \"limit 100000\"\n",
    "                     )\n",
    "cursor.execute(query)\n",
    "G=nx.Graph()\n",
    "for (a_1, a_2) in cursor:\n",
    "    G.add_edges_from([(a_1, a_2)])\n",
    "cursor.close()\n",
    "cnx.close()"
   ]
  },
  {
   "cell_type": "code",
   "execution_count": 21,
   "metadata": {
    "collapsed": false
   },
   "outputs": [],
   "source": [
    "A=nx.adjacency_matrix(G)"
   ]
  },
  {
   "cell_type": "code",
   "execution_count": 42,
   "metadata": {
    "collapsed": false
   },
   "outputs": [
    {
     "name": "stdout",
     "output_type": "stream",
     "text": [
      "  (0, 3791)\t1\n",
      "  (1, 3791)\t1\n",
      "  (2, 3791)\t1\n",
      "  (3, 3791)\t1\n",
      "  (4, 3791)\t1\n",
      "  (5, 3791)\t1\n",
      "  (6, 3791)\t1\n",
      "  (7, 3791)\t1\n",
      "  (8, 3791)\t1\n",
      "  (9, 3791)\t1\n",
      "  (10, 3791)\t1\n",
      "  (11, 3791)\t1\n",
      "  (12, 3791)\t1\n",
      "  (13, 3791)\t1\n",
      "  (14, 3791)\t1\n",
      "  (15, 3791)\t1\n",
      "  (16, 3791)\t1\n",
      "  (17, 3791)\t1\n",
      "  (18, 3791)\t1\n",
      "  (19, 3791)\t1\n",
      "  (20, 3791)\t1\n",
      "  (21, 3791)\t1\n",
      "  (22, 3791)\t1\n",
      "  (23, 3791)\t1\n",
      "  (24, 3791)\t1\n",
      "  :\t:\n",
      "  (7010, 3791)\t1\n",
      "  (7011, 3791)\t1\n",
      "  (7012, 3791)\t1\n",
      "  (7013, 3791)\t1\n",
      "  (7014, 3791)\t1\n",
      "  (7015, 3791)\t1\n",
      "  (7016, 3791)\t1\n",
      "  (7017, 3791)\t1\n",
      "  (7018, 3791)\t1\n",
      "  (7019, 3791)\t1\n",
      "  (7020, 3791)\t1\n",
      "  (7021, 3791)\t1\n",
      "  (7022, 3791)\t1\n",
      "  (7023, 3791)\t1\n",
      "  (7024, 3791)\t1\n",
      "  (7025, 3791)\t1\n",
      "  (7026, 3791)\t1\n",
      "  (7027, 3791)\t1\n",
      "  (7028, 3791)\t1\n",
      "  (7029, 3791)\t1\n",
      "  (7030, 3791)\t1\n",
      "  (7031, 3791)\t1\n",
      "  (7032, 3791)\t1\n",
      "  (7033, 3791)\t1\n",
      "  (7034, 3791)\t1\n"
     ]
    }
   ],
   "source": [
    "print(A)"
   ]
  },
  {
   "cell_type": "code",
   "execution_count": 23,
   "metadata": {
    "collapsed": false
   },
   "outputs": [
    {
     "name": "stdout",
     "output_type": "stream",
     "text": [
      "[[ 0.  0.  0. ...,  0.  0.  0.]\n",
      " [ 0.  0.  0. ...,  0.  0.  0.]\n",
      " [ 0.  0.  0. ...,  0.  0.  0.]\n",
      " ..., \n",
      " [ 0.  0.  0. ...,  0.  0.  0.]\n",
      " [ 0.  0.  0. ...,  0.  0.  0.]\n",
      " [ 0.  0.  0. ...,  0.  0.  0.]]\n"
     ]
    }
   ],
   "source": [
    "print(nx.to_numpy_matrix(G))"
   ]
  },
  {
   "cell_type": "code",
   "execution_count": null,
   "metadata": {
    "collapsed": true
   },
   "outputs": [],
   "source": [
    "flatten = list(set([val for sublist in exit for val in sublist]))\n",
    "flatten.remove(author)\n",
    "    except:\n",
    "        pass\n",
    "    return flatten\n",
    "def add_vicinity(graph,author):\n",
    "    edges = find_neighbour(author)\n",
    "    G.add_edges_from(edges)\n",
    "    vicinity = list_author(edges,author)\n",
    "    return vicinity\n",
    "def graph_r(G,author,k):\n",
    "    if k >= 1:\n",
    "        vici = add_vicinity(G,author)\n",
    "        for authors in vici:\n",
    "            k = k - 1\n",
    "            graph_r(G,authors,k)"
   ]
  },
  {
   "cell_type": "code",
   "execution_count": 55,
   "metadata": {
    "collapsed": false
   },
   "outputs": [
    {
     "name": "stdout",
     "output_type": "stream",
     "text": [
      "4 377789 1 conn\n",
      "4 434880 1 conn\n",
      "4 441970 1 conn\n",
      "4 447077 1 conn\n",
      "4 450410 1 conn\n",
      "5 36550 1 conn\n",
      "5 48482 1 conn\n",
      "5 60209 1 conn\n",
      "5 75498 1 conn\n",
      "5 143215 1 conn\n"
     ]
    }
   ],
   "source": [
    "cnx = mysql.connector.connect(user='root', password='dmkm1234',\n",
    "                                  host='localhost',\n",
    "                                  database='dmkm_articles', port='8889')\n",
    "cursor = cnx.cursor(buffered=True)\n",
    "cursorb = cnx.cursor(buffered=True)\n",
    "\n",
    "query = (\"select a_1, a_2 from graph where distance is null limit 10\")\n",
    "cursor.execute(query)\n",
    "\n",
    "query2 = (\"update graph \"\n",
    "          \"set distance = %s \"\n",
    "          \"where a_1= %s and a_2= %s and distance is null \"\n",
    "                )\n",
    "i=0\n",
    "for (a_1,a_2) in cursor:\n",
    "    G=nx.Graph()\n",
    "    k=5\n",
    "    graph_r(G,a_1,k)\n",
    "    graph_r(G,a_2,k)\n",
    "    i = i+1\n",
    "    d = None\n",
    "    try:\n",
    "        d = str(len(nx.shortest_path(G,a_1,a_2))-1)\n",
    "        cursorb.execute(query2,(d,a_1,a_2))\n",
    "        cnx.commit()\n",
    "        print(str(a_1)+' '+str(a_2)+' '+str(d)+' conn')\n",
    "    except:\n",
    "        pass\n",
    "cursorb.close()\n",
    "cursor.close()\n",
    "cnx.close()"
   ]
  },
  {
   "cell_type": "code",
   "execution_count": 344,
   "metadata": {
    "collapsed": false
   },
   "outputs": [
    {
     "name": "stdout",
     "output_type": "stream",
     "text": [
      "update graph set distance = 0 where a_1=2 and a_2=155241 and distance is null \n"
     ]
    }
   ],
   "source": [
    "#d=0\n",
    "#query2 = (\"update graph \"\n",
    "#                  \"set distance = \"+str(d)+\" \"\n",
    "#                  \"where a_1=\"+str(a_1)+\" and a_2=\"+str(a_2)+\" and distance is null \")\n",
    "#print(query2)"
   ]
  },
  {
   "cell_type": "code",
   "execution_count": 50,
   "metadata": {
    "collapsed": false
   },
   "outputs": [],
   "source": [
    "#a1=2\n",
    "#a2=62182\n",
    "#k=5\n",
    "#G=nx.Graph()\n",
    "#graph_r(G,a1,k)\n",
    "#graph_r(G,a2,k)"
   ]
  },
  {
   "cell_type": "code",
   "execution_count": 51,
   "metadata": {
    "collapsed": false
   },
   "outputs": [
    {
     "data": {
      "text/plain": [
       "167"
      ]
     },
     "execution_count": 51,
     "metadata": {},
     "output_type": "execute_result"
    }
   ],
   "source": [
    "#len(G.nodes())"
   ]
  },
  {
   "cell_type": "code",
   "execution_count": 52,
   "metadata": {
    "collapsed": false
   },
   "outputs": [
    {
     "data": {
      "text/plain": [
       "1"
      ]
     },
     "execution_count": 52,
     "metadata": {},
     "output_type": "execute_result"
    }
   ],
   "source": [
    "#len(nx.shortest_path(G,a1,a2))-1"
   ]
  },
  {
   "cell_type": "code",
   "execution_count": 353,
   "metadata": {
    "collapsed": false
   },
   "outputs": [],
   "source": [
    "#for author in cursor:\n",
    "#    pass\n",
    "#cursor1\n",
    "#cnx.commit()\n",
    "#cursor.close()\n",
    "#cnx.close()"
   ]
  },
  {
   "cell_type": "code",
   "execution_count": 235,
   "metadata": {
    "collapsed": false
   },
   "outputs": [],
   "source": [
    "#G.edges()"
   ]
  },
  {
   "cell_type": "code",
   "execution_count": 236,
   "metadata": {
    "collapsed": false
   },
   "outputs": [],
   "source": [
    "#nx.clustering(G)"
   ]
  },
  {
   "cell_type": "code",
   "execution_count": null,
   "metadata": {
    "collapsed": true
   },
   "outputs": [],
   "source": []
  },
  {
   "cell_type": "code",
   "execution_count": null,
   "metadata": {
    "collapsed": true
   },
   "outputs": [],
   "source": []
  }
 ],
 "metadata": {
  "kernelspec": {
   "display_name": "Python 3",
   "language": "python",
   "name": "python3"
  },
  "language_info": {
   "codemirror_mode": {
    "name": "ipython",
    "version": 3
   },
   "file_extension": ".py",
   "mimetype": "text/x-python",
   "name": "python",
   "nbconvert_exporter": "python",
   "pygments_lexer": "ipython3",
   "version": "3.5.1"
  }
 },
 "nbformat": 4,
 "nbformat_minor": 0
}
